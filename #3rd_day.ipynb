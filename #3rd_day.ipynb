{
 "cells": [
  {
   "cell_type": "markdown",
   "id": "7919836e",
   "metadata": {},
   "source": [
    "#print function 123...n"
   ]
  },
  {
   "cell_type": "code",
   "execution_count": 1,
   "id": "0a6f8858",
   "metadata": {},
   "outputs": [
    {
     "name": "stdout",
     "output_type": "stream",
     "text": [
      "3\n",
      "123"
     ]
    }
   ],
   "source": [
    "if __name__ == '__main__':\n",
    "    n = int(input())\n",
    "    for i in range(n):\n",
    "        print(i+1,end=\"\")"
   ]
  },
  {
   "cell_type": "markdown",
   "id": "802579a4",
   "metadata": {},
   "source": [
    "#list comprehensions [0,0,0],[0,0,1]..."
   ]
  },
  {
   "cell_type": "code",
   "execution_count": 2,
   "id": "6c36e9e7",
   "metadata": {},
   "outputs": [
    {
     "name": "stdout",
     "output_type": "stream",
     "text": [
      "1\n",
      "1\n",
      "1\n",
      "2\n",
      "[[0, 0, 0], [0, 0, 1], [0, 1, 0], [1, 0, 0], [1, 1, 1]]\n"
     ]
    }
   ],
   "source": [
    "if __name__ == '__main__':\n",
    "    x = int(input())\n",
    "    y = int(input())\n",
    "    z = int(input())\n",
    "    n = int(input())\n",
    "    print([[i,j,k] for i in range(x+1) for j in range(y+1) for k in range(z+1)\n",
    "     if i+j+k!=n])"
   ]
  },
  {
   "cell_type": "code",
   "execution_count": null,
   "id": "a2d2e111",
   "metadata": {},
   "outputs": [],
   "source": []
  }
 ],
 "metadata": {
  "kernelspec": {
   "display_name": "Python 3 (ipykernel)",
   "language": "python",
   "name": "python3"
  },
  "language_info": {
   "codemirror_mode": {
    "name": "ipython",
    "version": 3
   },
   "file_extension": ".py",
   "mimetype": "text/x-python",
   "name": "python",
   "nbconvert_exporter": "python",
   "pygments_lexer": "ipython3",
   "version": "3.10.2"
  }
 },
 "nbformat": 4,
 "nbformat_minor": 5
}
