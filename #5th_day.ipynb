{
 "cells": [
  {
   "cell_type": "markdown",
   "id": "f95e1dd6",
   "metadata": {},
   "source": [
    "#Mutation"
   ]
  },
  {
   "cell_type": "code",
   "execution_count": null,
   "id": "351cf3b8",
   "metadata": {
    "scrolled": true
   },
   "outputs": [],
   "source": [
    "def mutation(str,pos,char):\n",
    "    return str[:5] + \"k\" +str[:6]\n",
    "str=input().split()\n",
    "print(mutation(str,pos,char))"
   ]
  },
  {
   "cell_type": "markdown",
   "id": "53508406",
   "metadata": {},
   "source": [
    "#Find a string"
   ]
  },
  {
   "cell_type": "code",
   "execution_count": 2,
   "id": "77ed4290",
   "metadata": {},
   "outputs": [
    {
     "name": "stdout",
     "output_type": "stream",
     "text": [
      "abcdefghdef\n",
      "def\n",
      "2\n"
     ]
    }
   ],
   "source": [
    "def count_string(str,sub_str):\n",
    "    count=0\n",
    "    x=-1\n",
    "    while x<len(str):\n",
    "        z=str.find(sub_str,x+1)\n",
    "        if z==-1:\n",
    "          break\n",
    "        count+=1\n",
    "        x=z\n",
    "    return count\n",
    "\n",
    "str=input().strip()\n",
    "sub_str=input().strip()\n",
    "print(count_string(str,sub_str))"
   ]
  },
  {
   "cell_type": "markdown",
   "id": "82a79bde",
   "metadata": {},
   "source": [
    "#String validators"
   ]
  },
  {
   "cell_type": "code",
   "execution_count": null,
   "id": "be6bcc0b",
   "metadata": {},
   "outputs": [],
   "source": [
    "s=input()\n",
    "print(any([i.isalnum() for i in s]))"
   ]
  }
 ],
 "metadata": {
  "kernelspec": {
   "display_name": "Python 3 (ipykernel)",
   "language": "python",
   "name": "python3"
  },
  "language_info": {
   "codemirror_mode": {
    "name": "ipython",
    "version": 3
   },
   "file_extension": ".py",
   "mimetype": "text/x-python",
   "name": "python",
   "nbconvert_exporter": "python",
   "pygments_lexer": "ipython3",
   "version": "3.10.2"
  }
 },
 "nbformat": 4,
 "nbformat_minor": 5
}
