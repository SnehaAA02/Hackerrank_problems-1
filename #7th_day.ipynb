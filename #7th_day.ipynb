{
 "cells": [
  {
   "cell_type": "markdown",
   "id": "ddd76a60",
   "metadata": {},
   "source": [
    "#Polar coordinates"
   ]
  },
  {
   "cell_type": "code",
   "execution_count": 9,
   "id": "8080c5ab",
   "metadata": {},
   "outputs": [
    {
     "name": "stdout",
     "output_type": "stream",
     "text": [
      "1+2j\n",
      "2.23606797749979\n",
      "1.1071487177940904\n"
     ]
    }
   ],
   "source": [
    "import cmath\n",
    "print(*cmath.polar(complex(input())),sep=\"\\n\")"
   ]
  },
  {
   "cell_type": "markdown",
   "id": "2e8ec292",
   "metadata": {},
   "source": [
    "#Calender"
   ]
  },
  {
   "cell_type": "code",
   "execution_count": 12,
   "id": "3948ce91",
   "metadata": {},
   "outputs": [
    {
     "name": "stdout",
     "output_type": "stream",
     "text": [
      "08 05 2006\n",
      "MONDAY\n"
     ]
    }
   ],
   "source": [
    "import calendar\n",
    "a=list(map(int,input().split()))\n",
    "d=a[0]\n",
    "m=a[1]\n",
    "y=a[2]\n",
    "print((calendar.day_name)[calendar.weekday(y,m,d)].upper())"
   ]
  },
  {
   "cell_type": "markdown",
   "id": "3aa760bc",
   "metadata": {},
   "source": [
    "#Find the percentage"
   ]
  },
  {
   "cell_type": "code",
   "execution_count": 30,
   "id": "ce88ecab",
   "metadata": {
    "scrolled": true
   },
   "outputs": [
    {
     "name": "stdout",
     "output_type": "stream",
     "text": [
      "2\n",
      "alpha 10 20 30\n",
      "beta 52 41 60\n",
      "alpha\n",
      "20.00\n"
     ]
    }
   ],
   "source": [
    "\n",
    "n=int(input())\n",
    "student_marks={}\n",
    "for i in range(n):\n",
    "        name, *line=input().split()\n",
    "        scores=list(map(float,line))\n",
    "        student_marks[name]=scores\n",
    "query_name=input()\n",
    "total_marks=sum(student_marks[query_name])\n",
    "average=total_marks/3\n",
    "print(\"%.2f\"%(average)) "
   ]
  }
 ],
 "metadata": {
  "kernelspec": {
   "display_name": "Python 3 (ipykernel)",
   "language": "python",
   "name": "python3"
  },
  "language_info": {
   "codemirror_mode": {
    "name": "ipython",
    "version": 3
   },
   "file_extension": ".py",
   "mimetype": "text/x-python",
   "name": "python",
   "nbconvert_exporter": "python",
   "pygments_lexer": "ipython3",
   "version": "3.10.2"
  }
 },
 "nbformat": 4,
 "nbformat_minor": 5
}
