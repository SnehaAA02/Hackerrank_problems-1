{
 "cells": [
  {
   "cell_type": "markdown",
   "id": "d016b4f4",
   "metadata": {},
   "source": [
    "#Collections deque"
   ]
  },
  {
   "cell_type": "code",
   "execution_count": null,
   "id": "7a921def",
   "metadata": {},
   "outputs": [],
   "source": []
  },
  {
   "cell_type": "markdown",
   "id": "c97642a3",
   "metadata": {},
   "source": [
    "#Discard,remove,pop"
   ]
  },
  {
   "cell_type": "code",
   "execution_count": null,
   "id": "a2c7fe2b",
   "metadata": {},
   "outputs": [],
   "source": []
  },
  {
   "cell_type": "markdown",
   "id": "99dd1f95",
   "metadata": {},
   "source": [
    "#Set.insertion()"
   ]
  },
  {
   "cell_type": "code",
   "execution_count": null,
   "id": "93f4ffb5",
   "metadata": {
    "scrolled": true
   },
   "outputs": [],
   "source": [
    "s,a=input(),set(input().split())\n",
    "l,b=input(),set(input().split())\n",
    "print(len(a.insertion(b)))"
   ]
  }
 ],
 "metadata": {
  "kernelspec": {
   "display_name": "Python 3 (ipykernel)",
   "language": "python",
   "name": "python3"
  },
  "language_info": {
   "codemirror_mode": {
    "name": "ipython",
    "version": 3
   },
   "file_extension": ".py",
   "mimetype": "text/x-python",
   "name": "python",
   "nbconvert_exporter": "python",
   "pygments_lexer": "ipython3",
   "version": "3.10.2"
  }
 },
 "nbformat": 4,
 "nbformat_minor": 5
}
