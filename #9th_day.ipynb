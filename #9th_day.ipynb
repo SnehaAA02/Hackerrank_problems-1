{
 "cells": [
  {
   "cell_type": "markdown",
   "id": "56a9437d",
   "metadata": {},
   "source": [
    "#Designer door mat"
   ]
  },
  {
   "cell_type": "code",
   "execution_count": 4,
   "id": "0cb24899",
   "metadata": {},
   "outputs": [
    {
     "name": "stdout",
     "output_type": "stream",
     "text": [
      "9 27\n",
      "------------.|.------------\n",
      "---------.|..|..|.---------\n",
      "------.|..|..|..|..|.------\n",
      "---.|..|..|..|..|..|..|.---\n",
      "----------WELCOME----------\n",
      "---.|..|..|..|..|..|..|.---\n",
      "------.|..|..|..|..|.------\n",
      "---------.|..|..|.---------\n",
      "------------.|.------------\n"
     ]
    }
   ],
   "source": [
    "N,M=map(int,input().split())\n",
    "pat=\".|.\"\n",
    "for i in range(1,N,2):\n",
    "    print((pat*i).center(M,\"-\"))\n",
    "print(\"WELCOME\".center(M,\"-\"))\n",
    "for i in range(N-2,-1,-2):\n",
    "     print((pat*i).center(M,\"-\"))"
   ]
  },
  {
   "cell_type": "markdown",
   "id": "56edcc9f",
   "metadata": {},
   "source": [
    "#Sets"
   ]
  },
  {
   "cell_type": "code",
   "execution_count": 5,
   "id": "3ec73640",
   "metadata": {},
   "outputs": [
    {
     "name": "stdout",
     "output_type": "stream",
     "text": [
      "2\n",
      "50 62\n",
      "56.0\n"
     ]
    }
   ],
   "source": [
    "def average(arr):\n",
    "    return sum(set(arr))/len(arr)\n",
    "n=int(input())\n",
    "arr=list(map(int,input().split()))\n",
    "print(average(arr))"
   ]
  },
  {
   "cell_type": "markdown",
   "id": "ee2719b3",
   "metadata": {},
   "source": [
    "#set.add"
   ]
  },
  {
   "cell_type": "code",
   "execution_count": 4,
   "id": "db58cd44",
   "metadata": {},
   "outputs": [
    {
     "name": "stdout",
     "output_type": "stream",
     "text": [
      "3\n",
      "India\n",
      "Japan\n",
      "USA\n",
      "3\n"
     ]
    }
   ],
   "source": [
    "N=int(input())\n",
    "s=set()\n",
    "for i in range(N):\n",
    "    s.add(input())\n",
    "print(len(s))"
   ]
  }
 ],
 "metadata": {
  "kernelspec": {
   "display_name": "Python 3 (ipykernel)",
   "language": "python",
   "name": "python3"
  },
  "language_info": {
   "codemirror_mode": {
    "name": "ipython",
    "version": 3
   },
   "file_extension": ".py",
   "mimetype": "text/x-python",
   "name": "python",
   "nbconvert_exporter": "python",
   "pygments_lexer": "ipython3",
   "version": "3.10.8"
  }
 },
 "nbformat": 4,
 "nbformat_minor": 5
}
