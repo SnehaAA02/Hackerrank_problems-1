{
 "cells": [
  {
   "cell_type": "markdown",
   "id": "f95facab",
   "metadata": {},
   "source": [
    "#Symmetric_difference"
   ]
  },
  {
   "cell_type": "code",
   "execution_count": 2,
   "id": "c9df51d0",
   "metadata": {},
   "outputs": [
    {
     "name": "stdout",
     "output_type": "stream",
     "text": [
      "4\n",
      "2 4 5 9\n",
      "4\n",
      "2 4 11 13\n",
      "5\n",
      "9\n",
      "11\n",
      "13\n"
     ]
    }
   ],
   "source": [
    "M=int(input())\n",
    "a=set(map(int,input().split()))\n",
    "N=int(input())\n",
    "b=set(map(int,input().split()))\n",
    "print(*sorted(a.symmetric_difference(b)),sep='\\n')"
   ]
  },
  {
   "cell_type": "markdown",
   "id": "2ea6c3b0",
   "metadata": {},
   "source": [
    "#Mod power"
   ]
  },
  {
   "cell_type": "code",
   "execution_count": 4,
   "id": "355bffef",
   "metadata": {},
   "outputs": [
    {
     "name": "stdout",
     "output_type": "stream",
     "text": [
      "2 \n",
      "2\n",
      "2\n",
      "4\n",
      "0\n"
     ]
    }
   ],
   "source": [
    "import math\n",
    "a,b,m = [int(input()) for i in range(3)]\n",
    "print(pow(a,b),pow(a,b,m),sep='\\n')"
   ]
  },
  {
   "cell_type": "markdown",
   "id": "486f2c79",
   "metadata": {},
   "source": [
    "#Mod Divmod"
   ]
  },
  {
   "cell_type": "code",
   "execution_count": null,
   "id": "fff941cc",
   "metadata": {},
   "outputs": [],
   "source": [
    "import math\n",
    "a,b=int(input()),int(input())\n",
    "print((a//b),(a%b),divmod(a,b),sep=\"\\n\")"
   ]
  }
 ],
 "metadata": {
  "kernelspec": {
   "display_name": "Python 3 (ipykernel)",
   "language": "python",
   "name": "python3"
  },
  "language_info": {
   "codemirror_mode": {
    "name": "ipython",
    "version": 3
   },
   "file_extension": ".py",
   "mimetype": "text/x-python",
   "name": "python",
   "nbconvert_exporter": "python",
   "pygments_lexer": "ipython3",
   "version": "3.10.2"
  }
 },
 "nbformat": 4,
 "nbformat_minor": 5
}
