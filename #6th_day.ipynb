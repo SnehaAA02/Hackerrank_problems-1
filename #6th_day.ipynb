{
 "cells": [
  {
   "cell_type": "markdown",
   "id": "566e3e95",
   "metadata": {},
   "source": [
    "#Text wrap"
   ]
  },
  {
   "cell_type": "code",
   "execution_count": 3,
   "id": "e6f4cbc1",
   "metadata": {},
   "outputs": [
    {
     "name": "stdout",
     "output_type": "stream",
     "text": [
      "abchshjfk\n",
      "4\n",
      "abch\n",
      "shjf\n",
      "k\n"
     ]
    }
   ],
   "source": [
    "import textwrap\n",
    "def wrap(string,max_width):\n",
    "    return textwrap.fill(string,max_width)\n",
    "\n",
    "string,max_width=input(),int(input())\n",
    "print(wrap(string,max_width))"
   ]
  },
  {
   "cell_type": "markdown",
   "id": "817eec44",
   "metadata": {},
   "source": [
    "#Capitalize"
   ]
  },
  {
   "cell_type": "code",
   "execution_count": 4,
   "id": "abecb2fe",
   "metadata": {},
   "outputs": [
    {
     "name": "stdout",
     "output_type": "stream",
     "text": [
      "chris alan\n",
      "Chris Alan\n"
     ]
    }
   ],
   "source": [
    "def solve(s):\n",
    "  return \" \".join(i.capitalize() for i in s.split(\" \"))\n",
    "s=input()\n",
    "print(solve(s))"
   ]
  },
  {
   "cell_type": "markdown",
   "id": "25f02a0f",
   "metadata": {},
   "source": [
    "#Itertools.product()"
   ]
  },
  {
   "cell_type": "code",
   "execution_count": 1,
   "id": "e7624e67",
   "metadata": {
    "scrolled": false
   },
   "outputs": [
    {
     "name": "stdout",
     "output_type": "stream",
     "text": [
      "[1,2]\n",
      "[3,4]\n"
     ]
    },
    {
     "ename": "ValueError",
     "evalue": "invalid literal for int() with base 10: '[1,2]'",
     "output_type": "error",
     "traceback": [
      "\u001b[1;31m---------------------------------------------------------------------------\u001b[0m",
      "\u001b[1;31mValueError\u001b[0m                                Traceback (most recent call last)",
      "Input \u001b[1;32mIn [1]\u001b[0m, in \u001b[0;36m<cell line: 4>\u001b[1;34m()\u001b[0m\n\u001b[0;32m      2\u001b[0m a\u001b[38;5;241m=\u001b[39m(\u001b[38;5;28mmap\u001b[39m(\u001b[38;5;28mint\u001b[39m,\u001b[38;5;28minput\u001b[39m()\u001b[38;5;241m.\u001b[39msplit()))\n\u001b[0;32m      3\u001b[0m b\u001b[38;5;241m=\u001b[39m(\u001b[38;5;28mmap\u001b[39m(\u001b[38;5;28mint\u001b[39m,\u001b[38;5;28minput\u001b[39m()\u001b[38;5;241m.\u001b[39msplit()))\n\u001b[1;32m----> 4\u001b[0m \u001b[38;5;28mprint\u001b[39m(\u001b[38;5;241m*\u001b[39m\u001b[43mproduct\u001b[49m\u001b[43m(\u001b[49m\u001b[43ma\u001b[49m\u001b[43m,\u001b[49m\u001b[43mb\u001b[49m\u001b[43m)\u001b[49m)\n",
      "\u001b[1;31mValueError\u001b[0m: invalid literal for int() with base 10: '[1,2]'"
     ]
    }
   ],
   "source": [
    "from itertools import product\n",
    "a=(map(int,input().split()))\n",
    "b=(map(int,input().split()))\n",
    "print(*product(a,b))"
   ]
  },
  {
   "cell_type": "code",
   "execution_count": null,
   "id": "08fb02c6",
   "metadata": {},
   "outputs": [],
   "source": []
  }
 ],
 "metadata": {
  "kernelspec": {
   "display_name": "Python 3 (ipykernel)",
   "language": "python",
   "name": "python3"
  },
  "language_info": {
   "codemirror_mode": {
    "name": "ipython",
    "version": 3
   },
   "file_extension": ".py",
   "mimetype": "text/x-python",
   "name": "python",
   "nbconvert_exporter": "python",
   "pygments_lexer": "ipython3",
   "version": "3.10.2"
  }
 },
 "nbformat": 4,
 "nbformat_minor": 5
}
