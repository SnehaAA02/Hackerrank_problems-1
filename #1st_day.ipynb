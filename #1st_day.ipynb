{
 "cells": [
  {
   "cell_type": "markdown",
   "id": "760411ab",
   "metadata": {},
   "source": [
    "#Hello world"
   ]
  },
  {
   "cell_type": "code",
   "execution_count": 10,
   "id": "613a1c63",
   "metadata": {},
   "outputs": [
    {
     "name": "stdout",
     "output_type": "stream",
     "text": [
      "Hello World\n"
     ]
    }
   ],
   "source": [
    "print(\"Hello World\")"
   ]
  },
  {
   "cell_type": "markdown",
   "id": "6285e7d0",
   "metadata": {},
   "source": [
    "#if else"
   ]
  },
  {
   "cell_type": "code",
   "execution_count": 1,
   "id": "f6735146",
   "metadata": {},
   "outputs": [
    {
     "name": "stdout",
     "output_type": "stream",
     "text": [
      "5\n",
      "Weird\n"
     ]
    }
   ],
   "source": [
    "if __name__ == '__main__':\n",
    "    n = int(input().strip())\n",
    "if n%2!=0:\n",
    "    print(\"Weird\") \n",
    "else:\n",
    "    if 2<=n<=5:\n",
    "       print(\"Not Weird\") \n",
    "    elif 6<=n<=20:\n",
    "       print(\"Weird\")\n",
    "    else:\n",
    "       print(\"Not Weird\")  \n"
   ]
  },
  {
   "cell_type": "markdown",
   "id": "afc5dead",
   "metadata": {},
   "source": [
    "#Arithmetic operator"
   ]
  },
  {
   "cell_type": "code",
   "execution_count": 11,
   "id": "2cdaed2c",
   "metadata": {},
   "outputs": [
    {
     "name": "stdout",
     "output_type": "stream",
     "text": [
      "5\n",
      "2\n",
      "7\n",
      "3\n",
      "10\n"
     ]
    }
   ],
   "source": [
    "if __name__ == '__main__':\n",
    "    a = int(input())\n",
    "    b = int(input())\n",
    "    print(a+b,a-b,a*b,sep='\\n')"
   ]
  }
 ],
 "metadata": {
  "celltoolbar": "Raw Cell Format",
  "kernelspec": {
   "display_name": "Python 3 (ipykernel)",
   "language": "python",
   "name": "python3"
  },
  "language_info": {
   "codemirror_mode": {
    "name": "ipython",
    "version": 3
   },
   "file_extension": ".py",
   "mimetype": "text/x-python",
   "name": "python",
   "nbconvert_exporter": "python",
   "pygments_lexer": "ipython3",
   "version": "3.10.2"
  }
 },
 "nbformat": 4,
 "nbformat_minor": 5
}
