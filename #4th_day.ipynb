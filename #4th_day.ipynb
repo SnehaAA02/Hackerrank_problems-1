{
 "cells": [
  {
   "cell_type": "markdown",
   "id": "33c07a6d",
   "metadata": {},
   "source": [
    "#swapcase"
   ]
  },
  {
   "cell_type": "code",
   "execution_count": 2,
   "id": "40422158",
   "metadata": {},
   "outputs": [
    {
     "name": "stdout",
     "output_type": "stream",
     "text": [
      "HellO\n",
      "hELLo\n"
     ]
    }
   ],
   "source": [
    "def swapcase(s):\n",
    "    return s.swapcase()\n",
    "\n",
    "if __name__==\"__main__\":\n",
    "    s=input()\n",
    "    result=swapcase(s)\n",
    "    print(result)"
   ]
  },
  {
   "cell_type": "markdown",
   "id": "98cb2b41",
   "metadata": {},
   "source": [
    "#what is your name"
   ]
  },
  {
   "cell_type": "code",
   "execution_count": 5,
   "id": "f231de58",
   "metadata": {},
   "outputs": [
    {
     "name": "stdout",
     "output_type": "stream",
     "text": [
      "Sneha\n",
      "Akkatangerhal\n",
      "Hello Sneha Akkatangerhal! you just delved into python.\n"
     ]
    }
   ],
   "source": [
    "def print_fullname(first,last):\n",
    "    print(\"Hello \"+first+\" \"+last+\"!\"+\" \"\"you just delved into python.\")\n",
    "    \n",
    "if __name__=='__main__':\n",
    "    first=input()\n",
    "    last=input()\n",
    "    print_fullname(first,last)\n",
    "    "
   ]
  },
  {
   "cell_type": "raw",
   "id": "d5888542",
   "metadata": {},
   "source": [
    "#String split and join"
   ]
  },
  {
   "cell_type": "code",
   "execution_count": 6,
   "id": "f964293a",
   "metadata": {},
   "outputs": [
    {
     "name": "stdout",
     "output_type": "stream",
     "text": [
      "this is a string\n",
      "this-is-a-string\n"
     ]
    }
   ],
   "source": [
    "def split_and_join(s):\n",
    "    return \"-\".join(s.split())\n",
    "\n",
    "s=input()\n",
    "print(split_and_join(s))"
   ]
  }
 ],
 "metadata": {
  "kernelspec": {
   "display_name": "Python 3 (ipykernel)",
   "language": "python",
   "name": "python3"
  },
  "language_info": {
   "codemirror_mode": {
    "name": "ipython",
    "version": 3
   },
   "file_extension": ".py",
   "mimetype": "text/x-python",
   "name": "python",
   "nbconvert_exporter": "python",
   "pygments_lexer": "ipython3",
   "version": "3.10.2"
  }
 },
 "nbformat": 4,
 "nbformat_minor": 5
}
