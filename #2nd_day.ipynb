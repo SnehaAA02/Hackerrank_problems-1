{
 "cells": [
  {
   "cell_type": "markdown",
   "id": "d4d46515",
   "metadata": {},
   "source": [
    "#loops"
   ]
  },
  {
   "cell_type": "code",
   "execution_count": 1,
   "id": "1461b285",
   "metadata": {},
   "outputs": [
    {
     "name": "stdout",
     "output_type": "stream",
     "text": [
      "3\n",
      "0\n",
      "1\n",
      "4\n"
     ]
    }
   ],
   "source": [
    "if __name__ == '__main__':\n",
    "    n = int(input())\n",
    "    for i in range(n):\n",
    "      print(i**2)\n"
   ]
  },
  {
   "cell_type": "markdown",
   "id": "8f29c3cd",
   "metadata": {},
   "source": [
    "#function"
   ]
  },
  {
   "cell_type": "code",
   "execution_count": 2,
   "id": "b981ff21",
   "metadata": {},
   "outputs": [
    {
     "name": "stdout",
     "output_type": "stream",
     "text": [
      "2021\n",
      "False\n"
     ]
    }
   ],
   "source": [
    "def leap(year):\n",
    "    leap=False\n",
    "    \n",
    "    if year%4!=0 and (year%100==0 or year%400!=0):\n",
    "       return leap\n",
    "    return True\n",
    "year=int(input())\n",
    "print(leap(year))"
   ]
  }
 ],
 "metadata": {
  "kernelspec": {
   "display_name": "Python 3 (ipykernel)",
   "language": "python",
   "name": "python3"
  },
  "language_info": {
   "codemirror_mode": {
    "name": "ipython",
    "version": 3
   },
   "file_extension": ".py",
   "mimetype": "text/x-python",
   "name": "python",
   "nbconvert_exporter": "python",
   "pygments_lexer": "ipython3",
   "version": "3.10.2"
  }
 },
 "nbformat": 4,
 "nbformat_minor": 5
}
