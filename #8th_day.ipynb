{
 "cells": [
  {
   "cell_type": "markdown",
   "id": "00b1fafa",
   "metadata": {},
   "source": [
    "#Nested list"
   ]
  },
  {
   "cell_type": "code",
   "execution_count": 24,
   "id": "4d75fce2",
   "metadata": {
    "scrolled": true
   },
   "outputs": [
    {
     "name": "stdout",
     "output_type": "stream",
     "text": [
      "2\n",
      "harry\n",
      "25\n"
     ]
    },
    {
     "ename": "AttributeError",
     "evalue": "'list' object attribute 'append' is read-only",
     "output_type": "error",
     "traceback": [
      "\u001b[1;31m---------------------------------------------------------------------------\u001b[0m",
      "\u001b[1;31mAttributeError\u001b[0m                            Traceback (most recent call last)",
      "Input \u001b[1;32mIn [24]\u001b[0m, in \u001b[0;36m<cell line: 2>\u001b[1;34m()\u001b[0m\n\u001b[0;32m      3\u001b[0m   name\u001b[38;5;241m=\u001b[39m\u001b[38;5;28minput\u001b[39m()\n\u001b[0;32m      4\u001b[0m   scores\u001b[38;5;241m=\u001b[39m\u001b[38;5;28mfloat\u001b[39m(\u001b[38;5;28minput\u001b[39m())\n\u001b[1;32m----> 5\u001b[0m   student\u001b[38;5;241m.\u001b[39mappend\u001b[38;5;241m=\u001b[39m[[name,scores]]\n\u001b[0;32m      6\u001b[0m second_highest\u001b[38;5;241m=\u001b[39m\u001b[38;5;28msorted\u001b[39m(\u001b[38;5;28mset\u001b[39m(i[\u001b[38;5;241m1\u001b[39m] \u001b[38;5;28;01mfor\u001b[39;00m i \u001b[38;5;129;01min\u001b[39;00m student))[\u001b[38;5;241m1\u001b[39m]\n\u001b[0;32m      7\u001b[0m \u001b[38;5;28mprint\u001b[39m(\u001b[38;5;124m\"\u001b[39m\u001b[38;5;130;01m\\n\u001b[39;00m\u001b[38;5;124m\"\u001b[39m\u001b[38;5;241m.\u001b[39mjoin(\u001b[38;5;28msorted\u001b[39m(i[\u001b[38;5;241m0\u001b[39m] \u001b[38;5;28;01mfor\u001b[39;00m i \u001b[38;5;129;01min\u001b[39;00m student \u001b[38;5;28;01mif\u001b[39;00m i[\u001b[38;5;241m1\u001b[39m]\u001b[38;5;241m==\u001b[39msecond_highest)))\n",
      "\u001b[1;31mAttributeError\u001b[0m: 'list' object attribute 'append' is read-only"
     ]
    }
   ],
   "source": [
    "  student=[]\n",
    "  for i in range(int(input())):\n",
    "    name=input()\n",
    "    scores=float(input())\n",
    "    student.append=[name,scores]\n",
    "  second_highest=sorted(set(i[1] for i in student))[1]\n",
    "  print(\"\\n\".join(sorted(i[0] for i in student if i[1]==second_highest)))"
   ]
  },
  {
   "cell_type": "code",
   "execution_count": null,
   "id": "2bb9b93d",
   "metadata": {},
   "outputs": [],
   "source": [
    "list"
   ]
  },
  {
   "cell_type": "code",
   "execution_count": 19,
   "id": "5685c043",
   "metadata": {},
   "outputs": [
    {
     "name": "stdout",
     "output_type": "stream",
     "text": [
      "3\n",
      "append 5\n",
      "[5]\n",
      "append 10\n",
      "[5, 10]\n",
      "insert 0 15\n",
      "[15, 5, 10]\n"
     ]
    }
   ],
   "source": [
    "    N = int(input())\n",
    "    list=[]\n",
    "    for i in range(N):\n",
    "      s=input().split()\n",
    "      if s[0]=='insert':\n",
    "          list.insert(int(s[1]),int(s[2]))\n",
    "      elif s[0]=='print':\n",
    "          print(list)\n",
    "      elif s[0]=='remove':\n",
    "          list.remove(int(s[1]))\n",
    "      elif s[0]=='append':\n",
    "          list.append(int(s[1]))\n",
    "      elif s[0]=='sort':\n",
    "          list.sort()\n",
    "      elif s[0]=='pop':\n",
    "          list.pop()\n",
    "      else:\n",
    "          list.reverse()\n",
    "      print(list)"
   ]
  },
  {
   "cell_type": "code",
   "execution_count": null,
   "id": "54a2d0a2",
   "metadata": {},
   "outputs": [],
   "source": [
    "Exception"
   ]
  },
  {
   "cell_type": "code",
   "execution_count": 23,
   "id": "a1f03d33",
   "metadata": {},
   "outputs": [
    {
     "name": "stdout",
     "output_type": "stream",
     "text": [
      "2\n",
      "1//0\n",
      "Error Code: invalid literal for int() with base 10: '1//0'\n",
      "1/#\n",
      "Error Code: invalid literal for int() with base 10: '1/#'\n"
     ]
    }
   ],
   "source": [
    "for i in range(int(input())):\n",
    "  try:\n",
    "    a,b=map(int,input().split())\n",
    "    print(a//b)\n",
    "  except BaseException as e:\n",
    "    print(\"Error Code:\",e)"
   ]
  }
 ],
 "metadata": {
  "kernelspec": {
   "display_name": "Python 3 (ipykernel)",
   "language": "python",
   "name": "python3"
  },
  "language_info": {
   "codemirror_mode": {
    "name": "ipython",
    "version": 3
   },
   "file_extension": ".py",
   "mimetype": "text/x-python",
   "name": "python",
   "nbconvert_exporter": "python",
   "pygments_lexer": "ipython3",
   "version": "3.10.2"
  }
 },
 "nbformat": 4,
 "nbformat_minor": 5
}
